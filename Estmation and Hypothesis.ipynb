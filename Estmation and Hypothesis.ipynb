{
  "cells": [
    {
      "cell_type": "markdown",
      "metadata": {
        "id": "XeV1U7GkVNZY"
      },
      "source": [
        "## Importing necessary libraries"
      ]
    },
    {
      "cell_type": "code",
      "execution_count": 2,
      "metadata": {
        "id": "219CEYUFVNZn"
      },
      "outputs": [],
      "source": [
        "# Libraries to help with reading and manipulating data\n",
        "import pandas as pd\n",
        "import numpy as np\n",
        "\n",
        "# Libraries to help with data visualization\n",
        "import matplotlib.pyplot as plt\n",
        "import seaborn as sns\n",
        "%matplotlib inline \n",
        "\n",
        "# Library to help with statistical analysis\n",
        "import scipy.stats as stats "
      ]
    },
    {
      "cell_type": "markdown",
      "metadata": {
        "id": "cfuKFTnCDTeA"
      },
      "source": [
        "## Sampling Distribution"
      ]
    },
    {
      "cell_type": "markdown",
      "metadata": {
        "id": "azEQu4DoC_Q5"
      },
      "source": [
        "**Q1. Suppose an automobile battery manufacturer claims that the mean lifetime of their battery is 60 months with a standard deviation of 6 months. Suppose the distribution of battery life is approximately normal. Find the probability that the mean lifetime of 40 randomly sampled batteries will be less than 58 months.**"
      ]
    },
    {
      "cell_type": "code",
      "execution_count": 27,
      "metadata": {
        "colab": {
          "base_uri": "https://localhost:8080/"
        },
        "id": "0WqicdboeQzY",
        "outputId": "29d9d857-1416-4c7d-a5de-cc813fd2acab"
      },
      "outputs": [
        {
          "output_type": "execute_result",
          "data": {
            "text/plain": [
              "0.02"
            ]
          },
          "metadata": {},
          "execution_count": 27
        }
      ],
      "source": [
        "# import the required function\n",
        "from scipy.stats import norm\n",
        "# declare the value of mean lifetime of battery in mu\n",
        "mu = 60\n",
        "# declare the value of standard deviation of battery\n",
        "sigma = 6\n",
        "# sample size\n",
        "n = 40\n",
        "# find the sample standard deviation\n",
        "s = sigma/np.sqrt(40)\n",
        "# find the probability\n",
        "round(norm.cdf(58, loc = mu, scale = s), 2)     "
      ]
    },
    {
      "cell_type": "markdown",
      "source": [
        "Insight:\n",
        "\n",
        "There is 2% chance that the mean lifetime of 40 randomly sampled batteries will be less than 58 months."
      ],
      "metadata": {
        "id": "Cila7RDKzcpf"
      }
    },
    {
      "cell_type": "markdown",
      "metadata": {
        "id": "1TFwIVHqBR8O"
      },
      "source": [
        "## Interval Estimation"
      ]
    },
    {
      "cell_type": "markdown",
      "metadata": {
        "id": "hyfZcgYs_LMD"
      },
      "source": [
        "**Q2. A random sample of 40 households was selected as part of a study on electricity usage, and the number of kilowatt-hours (kWh) was recorded for each household in the sample for the first quarter of 2020. The average usage was found to be 310 kWh. In a very large study in the first quarter of the previous year, it was found that the standard deviation of the usage was 89 kWh.**\n",
        "\n",
        "**Assuming the standard deviation is unchanged and that the usage is normally distributed, provide an expression for calculating a 95% confidence interval for the mean usage in the first quarter of 2019.**"
      ]
    },
    {
      "cell_type": "code",
      "execution_count": 6,
      "metadata": {
        "colab": {
          "base_uri": "https://localhost:8080/"
        },
        "id": "Eu6q0YTWeQzb",
        "outputId": "362d4746-29ba-4185-9056-99387ccd6403"
      },
      "outputs": [
        {
          "output_type": "execute_result",
          "data": {
            "text/plain": [
              "array([282.42, 337.58])"
            ]
          },
          "metadata": {},
          "execution_count": 6
        }
      ],
      "source": [
        "x_bar, sigma = 310, 89\n",
        "n = 40\n",
        "np.round(norm.interval(0.95, loc=x_bar, scale=sigma / np.sqrt(n)), 2)"
      ]
    },
    {
      "cell_type": "markdown",
      "source": [
        "**Insight:**\n",
        "\n",
        "95% of time,the mean electricity usage i the first quarter will be between 282.42 kwh and 337.58 kwh "
      ],
      "metadata": {
        "id": "qiZKvMS-jIk1"
      }
    },
    {
      "cell_type": "markdown",
      "metadata": {
        "id": "t29v6OugeQze"
      },
      "source": [
        "## Hypothesis Testing"
      ]
    },
    {
      "cell_type": "markdown",
      "metadata": {
        "id": "eZlRAtYfeQzg"
      },
      "source": [
        "**Q3. You are a manager of a Chinese restaurant. You want to determine whether the mean waiting time to place an order has changed in the past month from its previous population mean value of 4.5 minutes. State the null and alternative hypotheses.**"
      ]
    },
    {
      "cell_type": "markdown",
      "metadata": {
        "id": "7VUU9SSieQzh"
      },
      "source": [
        "The null hypothesis is that the mean waiting time has not changed from its previous value of 4.5 minutes. This is stated \n",
        "as\n",
        "\n",
        "$$H_0: \\mu = 4.5$$\n",
        "\n",
        "The alternative hypothesis is that the mean waiting time has been changed from its previous value of 4.5 minutes. This is stated as\n",
        "\n",
        "$$H_a: \\mu \\neq 4.5$$"
      ]
    },
    {
      "cell_type": "markdown",
      "metadata": {
        "id": "5YpEe-fbeQzi"
      },
      "source": [
        "**Q4. What is the p-value in a two-tailed z-test for one sample, where the computed test statistic (z-stat) is equal to +2.00?**"
      ]
    },
    {
      "cell_type": "markdown",
      "source": [
        "For calculating the p-value for a two-tailed hypothesis test, first we will calculate the p-value for a one-tailed test and then multiply the p-value by 2 to obtain the result for a two-tailed test\n",
        "\n",
        "The p-value for a one-tailed test is the area to the right of the computed test statistic in the distribution of the test statistic. That is, the probability $P(X>z\\_stat)$. This can be computed using the `cdf` function.\n",
        "  * The function `norm.cdf(x, mu, sigma)` calculates the probability $P(X<x)$ or $P(X<=x)$"
      ],
      "metadata": {
        "id": "8-1L9pvc2jBi"
      }
    },
    {
      "cell_type": "code",
      "execution_count": 28,
      "metadata": {
        "colab": {
          "base_uri": "https://localhost:8080/"
        },
        "id": "blKDu-hXeQzj",
        "outputId": "60e17093-834b-43da-eac4-c81eb0041cb6"
      },
      "outputs": [
        {
          "output_type": "execute_result",
          "data": {
            "text/plain": [
              "0.02275013194817921"
            ]
          },
          "metadata": {},
          "execution_count": 28
        }
      ],
      "source": [
        "#import the required function\n",
        "from scipy.stats import norm\n",
        "# provided value of the test statistic is +2.00\n",
        "z_stat = 2\n",
        "# calculating the p-value for a one-tailed test\n",
        "p_value = 1 - norm.cdf(2)\n",
        "p_value"
      ]
    },
    {
      "cell_type": "code",
      "source": [
        "# calculating the p-value for a two-tailed test\n",
        "print(p_value*2)"
      ],
      "metadata": {
        "colab": {
          "base_uri": "https://localhost:8080/"
        },
        "id": "Rw-PlyLgpsL9",
        "outputId": "f733f79e-7ebc-4c7a-b8ee-fe9ae4d6e8f1"
      },
      "execution_count": 13,
      "outputs": [
        {
          "output_type": "stream",
          "name": "stdout",
          "text": [
            "0.04550026389635842\n"
          ]
        }
      ]
    },
    {
      "cell_type": "markdown",
      "source": [
        "**Insight:**\n",
        "* in a two-tailed z-test for one sample, where the computed test statistic (z-stat) is equal to +2.00, the p-value is 0.0455"
      ],
      "metadata": {
        "id": "hIdQ4Ter22wz"
      }
    },
    {
      "cell_type": "markdown",
      "metadata": {
        "id": "64wLslaeeQzk"
      },
      "source": [
        "**Q5. Samy, Product Manager of K2 Jeans, wants to launch a product line into a new market area. A Survey of a random sample of 400 households in that market showed a mean income per household of 30000 rupees. The standard deviation based on an earlier pilot study of households is 8000 rupees. Samy strongly believes the product line will be adequately profitable only in markets where the mean household income is greater than 29000 rupees. Samy wants our help in deciding whether the product line should be introduced in the new market. Perform statistical analysis and based on that draw a conclusion.**\n",
        "\n",
        "Assume a level of significance ($\\alpha$) of 5%"
      ]
    },
    {
      "cell_type": "markdown",
      "source": [
        "Null Hypothesis: Mean income of the household is less than or equal to 29000 rupees. This can be written as:\n",
        "\n",
        "$$H_0: \\mu \\leq 29000$$ \n",
        "\n",
        "Alternative Hypothesis: Mean income of the household is greater than 29000 rupees. This can be written as:\n",
        "\n",
        "$$H_a: \\mu > 29000$$ "
      ],
      "metadata": {
        "id": "b-ytiumK3Jif"
      }
    },
    {
      "cell_type": "markdown",
      "source": [
        "From the description in the question, we are provided:\n",
        "\n",
        "$\\bar{x} = 30000$\n",
        "\n",
        "$\\mu = 29000$\n",
        "\n",
        "$\\sigma = 8000$\n",
        "\n",
        "$n = 400$\n",
        "\n",
        "The formula for computing the test statistic (z-stat) is given as:\n",
        "\n",
        "<font size = 5> $z = \\frac{(\\bar{x}-\\mu)}{\\sigma/\\sqrt{n}}$ </font>"
      ],
      "metadata": {
        "id": "HgbVn2Us3R4M"
      }
    },
    {
      "cell_type": "markdown",
      "source": [
        "# P_Value Approach"
      ],
      "metadata": {
        "id": "DAghp5A76m98"
      }
    },
    {
      "cell_type": "code",
      "execution_count": 29,
      "metadata": {
        "colab": {
          "base_uri": "https://localhost:8080/"
        },
        "id": "0AMo5w6QeQzl",
        "outputId": "f3f132b7-0599-44eb-dd0b-7619b3efcd77"
      },
      "outputs": [
        {
          "output_type": "stream",
          "name": "stdout",
          "text": [
            "2.5\n"
          ]
        }
      ],
      "source": [
        "# calculating the test statistic (z-stat)\n",
        "z = (30000 - 29000)/(8000/np.sqrt(400))\n",
        "print(z)"
      ]
    },
    {
      "cell_type": "markdown",
      "source": [
        "As the alternative hypothesis contains $>$ sign, it is a one-tailed test of greater than type. So, the p-value will be the area to the right of the computed test statistic in the distribution of the test statistic. That is, the probability $P(X>z)$"
      ],
      "metadata": {
        "id": "ACWSNwNu3pTT"
      }
    },
    {
      "cell_type": "code",
      "source": [
        "# Calculating the p-value for the test statistic z = 2.5\n",
        "p_value = 1 - stats.norm.cdf(z)\n",
        "p_value"
      ],
      "metadata": {
        "colab": {
          "base_uri": "https://localhost:8080/"
        },
        "id": "3d4ZqEEKurqu",
        "outputId": "423f3346-8f28-4861-9b9d-8260ef1a8990"
      },
      "execution_count": 31,
      "outputs": [
        {
          "output_type": "execute_result",
          "data": {
            "text/plain": [
              "0.006209665325776159"
            ]
          },
          "metadata": {},
          "execution_count": 31
        }
      ]
    },
    {
      "cell_type": "markdown",
      "source": [
        "**Insight**\n",
        "\n",
        "* As the p-value is less than $\\alpha$ (=0.05), we have enough evidence to reject the null hypothesis. \n",
        "\n",
        "* Hence, we have enough evidence to conclude that the mean income of the household is greater than 29000 rupees"
      ],
      "metadata": {
        "id": "i58XZwiF38rx"
      }
    },
    {
      "cell_type": "markdown",
      "source": [
        "# Rejection Region Approach\n",
        "\n",
        "For this approach, we need to follow the below steps.\n",
        "\n",
        "\n",
        "1.   We choose a value of level of significance ($\\alpha$).\n",
        "\n",
        "     ($\\alpha$ is the probability of rejecting the null hypothesis if it is true.)\n",
        "\n",
        "2.   Then, we find the rejection region in the graph.\n",
        "\n",
        "3.   We reject the null hypothesis if the test statistic falls in the rejection region. Else, we don't reject the null hypothesis.\n",
        "\n",
        "In the given example, the Z test statistic follows a standard normal distribution as shown in the below plot. The Z values lying in the right end of the distribution gives strong evidence against the null hypothesis. To find the rejection region, we will find the value of Z (called critical value) that gives an area of $\\alpha$ to the right end."
      ],
      "metadata": {
        "id": "JBF2hyR74MX-"
      }
    },
    {
      "cell_type": "code",
      "source": [
        "# import the required function\n",
        "from scipy.stats import norm\n",
        "\n",
        "# plotting the distribution of Z test statistic along with the computed test statistic\n",
        "# We are plotting the distributions here to better visualize the calculations\n",
        "x = np.linspace(-4, 4, 100) # create an array of 100 numbers starting from -4 and ending at 4\n",
        "plt.plot(x, norm.pdf(x, 0, 1)) # plot the pdf of the normal distribution\n",
        "plt.axvline(x = z, c = 'r') # draw a vertical red line through the mentioned point\n",
        "plt.show() # display the plot"
      ],
      "metadata": {
        "colab": {
          "base_uri": "https://localhost:8080/",
          "height": 265
        },
        "id": "_OgoAYjJ44I5",
        "outputId": "5a08a559-89f5-4c59-8edb-b10dc5d2e1b5"
      },
      "execution_count": 32,
      "outputs": [
        {
          "output_type": "display_data",
          "data": {
            "text/plain": [
              "<Figure size 432x288 with 1 Axes>"
            ],
            "image/png": "[encoded data removed]"
          },
          "metadata": {
            "needs_background": "light"
          }
        }
      ]
    },
    {
      "cell_type": "code",
      "source": [
        "# import the required function\n",
        "from scipy.stats import norm\n",
        "\n",
        "# find the critical value\n",
        "critical_value = norm.ppf(1-.05)\n",
        "critical_value"
      ],
      "metadata": {
        "colab": {
          "base_uri": "https://localhost:8080/"
        },
        "id": "EvvBmuC45RX9",
        "outputId": "d2ef7823-c11e-430f-f3cd-9403e26c4992"
      },
      "execution_count": 33,
      "outputs": [
        {
          "output_type": "execute_result",
          "data": {
            "text/plain": [
              "1.6448536269514722"
            ]
          },
          "metadata": {},
          "execution_count": 33
        }
      ]
    },
    {
      "cell_type": "code",
      "source": [
        "# plotting the test statistic distribution and indicating the rejection and acceptance region\n",
        "# We are plotting the distributions here to better visualize the calculations\n",
        "x = np.linspace(-4, 4, 100) # create an array of 100 numbers starting from -4 and ending at 4\n",
        "plt.plot(x, norm.pdf(x, 0, 1)) # plot the pdf of the normal distribution\n",
        "plt.axvline(x = critical_value, c = 'r') # draw a vertical red line through the mentioned point\n",
        "x1 = np.linspace(critical_value, 4, 50) # create an array of 50 numbers starting from the critical value and ending at 4\n",
        "plt.fill_between(x1, norm.pdf(x1, 0, 1), color='r') # fill the area under the curve after the critical value with red color\n",
        "plt.annotate('Reject Null', (2, 0.20)) # annotate the mentioned text at the mentioned location\n",
        "plt.annotate('  Do Not Reject\\n        Null', (-1, 0.20)) # annotate the mentioned text at the mentioned location\n",
        "plt.show() # display the plot"
      ],
      "metadata": {
        "colab": {
          "base_uri": "https://localhost:8080/",
          "height": 265
        },
        "id": "AqyqkHB6u9sR",
        "outputId": "168aee8e-5eac-4d24-b769-a2a69e1870c6"
      },
      "execution_count": 34,
      "outputs": [
        {
          "output_type": "display_data",
          "data": {
            "text/plain": [
              "<Figure size 432x288 with 1 Axes>"
            ],
            "image/png": "[encoded data removed]"
          },
          "metadata": {
            "needs_background": "light"
          }
        }
      ]
    },
    {
      "cell_type": "markdown",
      "source": [
        "### Insight\n",
        "\n",
        "As our test statistic (~ 2.5) does lie in the rejection region, we can reject the null hypothesis. Thus, we have statistical evidence to say that the Mean income of the household is greater than 29,000 rupees."
      ],
      "metadata": {
        "id": "iCKpM3oA5xrv"
      }
    }
  ],
  "metadata": {
    "colab": {
      "collapsed_sections": [
        "g7pg-lWiVNZx",
        "l46Ul-hMd7DD"
      ],
      "name": "Exercise_Estmation_Hypothesis_Questions.ipynb",
      "provenance": []
    },
    "kernelspec": {
      "display_name": "Python 3",
      "language": "python",
      "name": "python3"
    },
    "language_info": {
      "codemirror_mode": {
        "name": "ipython",
        "version": 3
      },
      "file_extension": ".py",
      "mimetype": "text/x-python",
      "name": "python",
      "nbconvert_exporter": "python",
      "pygments_lexer": "ipython3",
      "version": "3.8.8"
    }
  },
  "nbformat": 4,
  "nbformat_minor": 0
}